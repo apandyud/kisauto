{
 "cells": [
  {
   "cell_type": "code",
   "execution_count": 1,
   "id": "f8a2a83e",
   "metadata": {},
   "outputs": [],
   "source": [
    "import json\n",
    "import os\n",
    "import cv2\n",
    "os.environ['CUDA_VISIBLE_DEVICES'] = '0'\n",
    "import numpy as np\n",
    "import pandas as pd\n",
    "import matplotlib.pyplot as plt\n",
    "import seaborn as sns\n",
    "import random\n",
    "import itertools\n",
    "import tensorflow as tf\n",
    "from tensorflow.keras.models import Model, Sequential\n",
    "from tensorflow.keras.layers import Dense, Conv2D, Dropout, Flatten, MaxPooling2D, Input, Activation, BatchNormalization\n",
    "\n",
    "from sklearn.model_selection import train_test_split\n",
    "from tensorflow.keras.optimizers import Adam"
   ]
  },
  {
   "cell_type": "code",
   "execution_count": 52,
   "id": "92b9d85f",
   "metadata": {},
   "outputs": [],
   "source": [
    "DATA_DIR = './data2/'"
   ]
  },
  {
   "cell_type": "code",
   "execution_count": 138,
   "id": "d48e6d42",
   "metadata": {},
   "outputs": [],
   "source": [
    "DATA_DIR2 = './data2/'\n",
    "ids = os.listdir(DATA_DIR2)\n",
    "pvm_angels = []\n",
    "json_fps = [os.path.join(DATA_DIR2, image_id) for image_id in ids if image_id.startswith('catalog') and image_id.endswith('catalog')]\n",
    "for file in json_fps:\n",
    "    with open(file, 'r') as f:\n",
    "        for line in f:            \n",
    "            if (line.startswith('{')):\n",
    "                jsonObj = json.loads(line)   \n",
    "                imgFile = jsonObj['cam/image_array']\n",
    "                image = cv2.imread(os.path.join(DATA_DIR2, 'images', imgFile))\n",
    "                image = cv2.cvtColor(image, cv2.COLOR_BGR2RGB )\n",
    "                image = image[65:200, :]\n",
    "                #image = cv2.resize(image, (60,35))\n",
    "                image = cv2.resize(image, None, fx=0.25, fy= 0.25)\n",
    "                #image = cv2.resize(image, (60,60))\n",
    "                jsonObj['image'] = image\n",
    "                pvm_angels.append(jsonObj)\n"
   ]
  },
  {
   "cell_type": "code",
   "execution_count": 139,
   "id": "4b57c336",
   "metadata": {},
   "outputs": [
    {
     "data": {
      "image/png": "[encoded data removed]",
      "text/plain": [
       "<Figure size 432x288 with 1 Axes>"
      ]
     },
     "metadata": {
      "needs_background": "light"
     },
     "output_type": "display_data"
    },
    {
     "data": {
      "text/plain": [
       "(34, 56, 3)"
      ]
     },
     "execution_count": 139,
     "metadata": {},
     "output_type": "execute_result"
    }
   ],
   "source": [
    "plt.imshow(pvm_angels[0]['image'])\n",
    "plt.show()\n",
    "pvm_angels[0]['image'].shape"
   ]
  },
  {
   "cell_type": "code",
   "execution_count": 140,
   "id": "915890a5",
   "metadata": {},
   "outputs": [],
   "source": [
    "#prepare and split data\n",
    "\n",
    "df = pd.DataFrame(pvm_angels)\n",
    "\n",
    "images = list(df['image'])\n",
    "images = np.array(images) / 255.0\n",
    "pwms = np.array(df['user/angle'])\n",
    "pwms = (pwms+1)/2.0 #sigmoid activation\n",
    "\n",
    "trainImagesX, testImagesX, trainPwmsX, testPwmsX = train_test_split(images, pwms, test_size=0.1, random_state=42)\n",
    "trainImagesX, valImagesX, trainPwmsX, valPwmsX = train_test_split(trainImagesX, trainPwmsX, test_size=0.135, random_state=42)\n"
   ]
  },
  {
   "cell_type": "code",
   "execution_count": 141,
   "id": "b78249e2",
   "metadata": {},
   "outputs": [
    {
     "name": "stderr",
     "output_type": "stream",
     "text": [
      "/home/apandy/environemnts/car/lib/python3.8/site-packages/albumentations/augmentations/transforms.py:1613: FutureWarning: This class has been deprecated. Please use RandomBrightnessContrast\n",
      "  warnings.warn(\n",
      "/home/apandy/environemnts/car/lib/python3.8/site-packages/albumentations/augmentations/transforms.py:1639: FutureWarning: RandomContrast has been deprecated. Please use RandomBrightnessContrast\n",
      "  warnings.warn(\n"
     ]
    }
   ],
   "source": [
    "import albumentations as A\n",
    "transform = A.Compose([\n",
    "    #A.IAAAdditiveGaussianNoise(p=0.2),\n",
    "    A.GaussNoise(p=0.2),         \n",
    "    A.OneOf(\n",
    "        [\n",
    "            A.CLAHE(p=1),\n",
    "            A.RandomBrightness(p=1),\n",
    "            A.RandomGamma(p=1),\n",
    "        ],\n",
    "        p=0.9,\n",
    "    ),\n",
    "\n",
    "    A.OneOf(\n",
    "        [\n",
    "            #A.IAASharpen(p=1),\n",
    "            A.Sharpen(p=1),\n",
    "            A.Blur(blur_limit=3, p=1),\n",
    "            A.MotionBlur(blur_limit=3, p=1),\n",
    "        ],\n",
    "        p=0.9,\n",
    "    ),\n",
    "\n",
    "    A.OneOf(\n",
    "        [\n",
    "            A.RandomContrast(p=1),\n",
    "            A.HueSaturationValue(p=1),\n",
    "        ],\n",
    "        p=0.9,\n",
    "    ),\n",
    "\n",
    "    \n",
    "])\n",
    "transform = A.Compose([\n",
    "    A.RandomBrightnessContrast(brightness_limit=0.4, contrast_limit=0.5, brightness_by_max=False, p=1),    \n",
    "])\n",
    "\n",
    "    "
   ]
  },
  {
   "cell_type": "code",
   "execution_count": 142,
   "id": "9bd2dca0",
   "metadata": {},
   "outputs": [
    {
     "data": {
      "text/plain": [
       "((23660, 34, 56, 3), (23660,))"
      ]
     },
     "execution_count": 142,
     "metadata": {},
     "output_type": "execute_result"
    }
   ],
   "source": [
    "#implment augmentation \n",
    "\n",
    "augmentedTrainImages = []\n",
    "for i in range(len(trainImagesX)):\n",
    "    orig_image = trainImagesX[i]\n",
    "    augmentedTrainImages.append(orig_image)\n",
    "    for j in range(9):\n",
    "        augmentedTrainImages.append(transform(image=orig_image)['image'])\n",
    "\n",
    "augmentedTrainImages = np.array(augmentedTrainImages)        \n",
    "augmentedPwms = np.array(trainPwmsX).repeat(10)\n",
    "\n",
    "augmentedTrainImages.shape, augmentedPwms.shape"
   ]
  },
  {
   "cell_type": "code",
   "execution_count": 143,
   "id": "2c1db781",
   "metadata": {},
   "outputs": [
    {
     "data": {
      "image/png": "[encoded data removed]",
      "text/plain": [
       "<Figure size 432x288 with 1 Axes>"
      ]
     },
     "metadata": {
      "needs_background": "light"
     },
     "output_type": "display_data"
    },
    {
     "name": "stdout",
     "output_type": "stream",
     "text": [
      "0.5\n"
     ]
    },
    {
     "data": {
      "image/png": "[encoded data removed]",
      "text/plain": [
       "<Figure size 432x288 with 1 Axes>"
      ]
     },
     "metadata": {
      "needs_background": "light"
     },
     "output_type": "display_data"
    },
    {
     "name": "stdout",
     "output_type": "stream",
     "text": [
      "0.5\n"
     ]
    },
    {
     "data": {
      "image/png": "[encoded data removed]",
      "text/plain": [
       "<Figure size 432x288 with 1 Axes>"
      ]
     },
     "metadata": {
      "needs_background": "light"
     },
     "output_type": "display_data"
    },
    {
     "name": "stdout",
     "output_type": "stream",
     "text": [
      "0.5\n"
     ]
    },
    {
     "data": {
      "image/png": "[encoded data removed]",
      "text/plain": [
       "<Figure size 432x288 with 1 Axes>"
      ]
     },
     "metadata": {
      "needs_background": "light"
     },
     "output_type": "display_data"
    },
    {
     "name": "stdout",
     "output_type": "stream",
     "text": [
      "0.5\n"
     ]
    },
    {
     "data": {
      "image/png": "[encoded data removed]",
      "text/plain": [
       "<Figure size 432x288 with 1 Axes>"
      ]
     },
     "metadata": {
      "needs_background": "light"
     },
     "output_type": "display_data"
    },
    {
     "name": "stdout",
     "output_type": "stream",
     "text": [
      "0.0\n"
     ]
    },
    {
     "data": {
      "image/png": "[encoded data removed]",
      "text/plain": [
       "<Figure size 432x288 with 1 Axes>"
      ]
     },
     "metadata": {
      "needs_background": "light"
     },
     "output_type": "display_data"
    },
    {
     "name": "stdout",
     "output_type": "stream",
     "text": [
      "0.0\n"
     ]
    }
   ],
   "source": [
    "#for i in range(10):\n",
    "plt.imshow(augmentedTrainImages[0])\n",
    "plt.show()\n",
    "print(augmentedPwms[0])\n",
    "plt.imshow(augmentedTrainImages[1])\n",
    "plt.show()\n",
    "print(augmentedPwms[1])\n",
    "plt.imshow(augmentedTrainImages[8])\n",
    "plt.show()\n",
    "print(augmentedPwms[8])\n",
    "plt.imshow(augmentedTrainImages[9])\n",
    "plt.show()\n",
    "print(augmentedPwms[9])\n",
    "plt.imshow(augmentedTrainImages[10])\n",
    "plt.show()\n",
    "print(augmentedPwms[10])\n",
    "plt.imshow(augmentedTrainImages[11])\n",
    "plt.show()\n",
    "print(augmentedPwms[11])"
   ]
  },
  {
   "cell_type": "code",
   "execution_count": 144,
   "id": "ced62216",
   "metadata": {},
   "outputs": [
    {
     "name": "stdout",
     "output_type": "stream",
     "text": [
      "Epoch 1/50\n",
      "740/740 [==============================] - 2s 2ms/step - loss: 0.0611 - val_loss: 0.0569\n",
      "Epoch 2/50\n",
      "740/740 [==============================] - 1s 2ms/step - loss: 0.0409 - val_loss: 0.0499\n",
      "Epoch 3/50\n",
      "740/740 [==============================] - 1s 2ms/step - loss: 0.0318 - val_loss: 0.0462\n",
      "Epoch 4/50\n",
      "740/740 [==============================] - 1s 2ms/step - loss: 0.0247 - val_loss: 0.0456\n",
      "Epoch 5/50\n",
      "740/740 [==============================] - 1s 2ms/step - loss: 0.0196 - val_loss: 0.0443\n",
      "Epoch 6/50\n",
      "740/740 [==============================] - 1s 2ms/step - loss: 0.0157 - val_loss: 0.0481\n",
      "Epoch 7/50\n",
      "740/740 [==============================] - 1s 2ms/step - loss: 0.0145 - val_loss: 0.0435\n",
      "Epoch 8/50\n",
      "740/740 [==============================] - 1s 2ms/step - loss: 0.0115 - val_loss: 0.0445\n",
      "Epoch 9/50\n",
      "740/740 [==============================] - 1s 2ms/step - loss: 0.0092 - val_loss: 0.0473\n",
      "Epoch 10/50\n",
      "740/740 [==============================] - 1s 2ms/step - loss: 0.0079 - val_loss: 0.0452\n",
      "Epoch 11/50\n",
      "740/740 [==============================] - 1s 2ms/step - loss: 0.0086 - val_loss: 0.0463\n",
      "Epoch 12/50\n",
      "740/740 [==============================] - 1s 2ms/step - loss: 0.0073 - val_loss: 0.0445\n",
      "Epoch 13/50\n",
      "740/740 [==============================] - 1s 2ms/step - loss: 0.0062 - val_loss: 0.0418\n",
      "Epoch 14/50\n",
      "740/740 [==============================] - 1s 2ms/step - loss: 0.0077 - val_loss: 0.0429\n",
      "Epoch 15/50\n",
      "740/740 [==============================] - 1s 2ms/step - loss: 0.0053 - val_loss: 0.0402\n",
      "Epoch 16/50\n",
      "740/740 [==============================] - 1s 2ms/step - loss: 0.0044 - val_loss: 0.0406\n",
      "Epoch 17/50\n",
      "740/740 [==============================] - 1s 2ms/step - loss: 0.0047 - val_loss: 0.0431\n",
      "Epoch 18/50\n",
      "740/740 [==============================] - 1s 2ms/step - loss: 0.0048 - val_loss: 0.0457\n",
      "Epoch 19/50\n",
      "740/740 [==============================] - 1s 2ms/step - loss: 0.0068 - val_loss: 0.0418\n",
      "Epoch 20/50\n",
      "740/740 [==============================] - 1s 2ms/step - loss: 0.0044 - val_loss: 0.0414\n",
      "Epoch 21/50\n",
      "740/740 [==============================] - 1s 2ms/step - loss: 0.0031 - val_loss: 0.0459\n",
      "Epoch 22/50\n",
      "740/740 [==============================] - 1s 2ms/step - loss: 0.0032 - val_loss: 0.0433\n",
      "Epoch 23/50\n",
      "740/740 [==============================] - 1s 2ms/step - loss: 0.0042 - val_loss: 0.0487\n",
      "Epoch 24/50\n",
      "740/740 [==============================] - 1s 2ms/step - loss: 0.0039 - val_loss: 0.0434\n",
      "Epoch 25/50\n",
      "740/740 [==============================] - 1s 2ms/step - loss: 0.0030 - val_loss: 0.0441\n",
      "Epoch 26/50\n",
      "740/740 [==============================] - 1s 2ms/step - loss: 0.0031 - val_loss: 0.0457\n",
      "Epoch 27/50\n",
      "740/740 [==============================] - 1s 2ms/step - loss: 0.0035 - val_loss: 0.0440\n",
      "Epoch 28/50\n",
      "740/740 [==============================] - 1s 2ms/step - loss: 0.0032 - val_loss: 0.0502\n",
      "Epoch 29/50\n",
      "740/740 [==============================] - 1s 2ms/step - loss: 0.0027 - val_loss: 0.0400\n",
      "Epoch 30/50\n",
      "740/740 [==============================] - 1s 2ms/step - loss: 0.0026 - val_loss: 0.0433\n",
      "Epoch 31/50\n",
      "740/740 [==============================] - 1s 2ms/step - loss: 0.0059 - val_loss: 0.0509\n",
      "Epoch 32/50\n",
      "740/740 [==============================] - 1s 2ms/step - loss: 0.0027 - val_loss: 0.0413\n",
      "Epoch 33/50\n",
      "740/740 [==============================] - 1s 2ms/step - loss: 0.0020 - val_loss: 0.0444\n",
      "Epoch 34/50\n",
      "740/740 [==============================] - 1s 2ms/step - loss: 0.0020 - val_loss: 0.0448\n",
      "Epoch 35/50\n",
      "740/740 [==============================] - 1s 2ms/step - loss: 0.0033 - val_loss: 0.0440\n",
      "Epoch 36/50\n",
      "740/740 [==============================] - 1s 2ms/step - loss: 0.0024 - val_loss: 0.0436\n",
      "Epoch 37/50\n",
      "740/740 [==============================] - 1s 2ms/step - loss: 0.0020 - val_loss: 0.0446\n",
      "Epoch 38/50\n",
      "740/740 [==============================] - 1s 2ms/step - loss: 0.0026 - val_loss: 0.0428\n",
      "Epoch 39/50\n",
      "740/740 [==============================] - 1s 2ms/step - loss: 0.0032 - val_loss: 0.0435\n",
      "Epoch 40/50\n",
      "740/740 [==============================] - 1s 2ms/step - loss: 0.0025 - val_loss: 0.0458\n",
      "Epoch 41/50\n",
      "740/740 [==============================] - 1s 2ms/step - loss: 0.0020 - val_loss: 0.0473\n",
      "Epoch 42/50\n",
      "740/740 [==============================] - 1s 2ms/step - loss: 0.0018 - val_loss: 0.0417\n",
      "Epoch 43/50\n",
      "740/740 [==============================] - 1s 2ms/step - loss: 0.0018 - val_loss: 0.0474\n",
      "Epoch 44/50\n",
      "740/740 [==============================] - 1s 2ms/step - loss: 0.0022 - val_loss: 0.0483\n",
      "Epoch 45/50\n",
      "740/740 [==============================] - 1s 2ms/step - loss: 0.0020 - val_loss: 0.0426\n",
      "Epoch 46/50\n",
      "740/740 [==============================] - 1s 2ms/step - loss: 0.0022 - val_loss: 0.0422\n",
      "Epoch 47/50\n",
      "740/740 [==============================] - 1s 2ms/step - loss: 0.0019 - val_loss: 0.0454\n",
      "Epoch 48/50\n",
      "740/740 [==============================] - 1s 2ms/step - loss: 0.0016 - val_loss: 0.0460\n",
      "Epoch 49/50\n",
      "740/740 [==============================] - 1s 2ms/step - loss: 0.0017 - val_loss: 0.0471\n",
      "Epoch 50/50\n",
      "740/740 [==============================] - 1s 2ms/step - loss: 0.0021 - val_loss: 0.0499\n"
     ]
    }
   ],
   "source": [
    "input_shape = augmentedTrainImages[0].shape\n",
    "\n",
    "model = Sequential()\n",
    "model.add(Conv2D(56, kernel_size=(3,3),input_shape=input_shape ))\n",
    "model.add(MaxPooling2D(pool_size=(2, 2)))\n",
    "model.add(Flatten()) # Flattening the 2D arrays for fully connected layers\n",
    "model.add(Dense(256, activation=tf.nn.relu))\n",
    "model.add(Dropout(0.2))\n",
    "#model.add(Dense(200,activation=tf.nn.softmax))\n",
    "model.add(Dense(1,activation=tf.nn.sigmoid))\n",
    "\n",
    "model.compile(optimizer='adam', loss='mean_squared_error')\n",
    "\n",
    "history = model.fit(x=augmentedTrainImages,y=augmentedPwms,  validation_data=(valImagesX, valPwmsX), epochs=50)\n"
   ]
  },
  {
   "cell_type": "code",
   "execution_count": 29,
   "id": "28a826e8",
   "metadata": {},
   "outputs": [
    {
     "name": "stdout",
     "output_type": "stream",
     "text": [
      "Test loss: 0.0026078857481479645\n",
      "Test accuracy: 0.42105263471603394\n"
     ]
    }
   ],
   "source": [
    "score = model.evaluate(testImagesX, testPwmsX, verbose=0)\n",
    "print('Test loss:', score[0])\n",
    "print('Test accuracy:', score[1])"
   ]
  },
  {
   "cell_type": "code",
   "execution_count": 40,
   "id": "dce9dd6f",
   "metadata": {},
   "outputs": [
    {
     "name": "stdout",
     "output_type": "stream",
     "text": [
      "95/95 [==============================] - 0s 770us/step\n"
     ]
    }
   ],
   "source": [
    "predict_x=model.predict(testImagesX) \n",
    "classex_x = np.argmax(predict_x,axis=1)"
   ]
  },
  {
   "cell_type": "code",
   "execution_count": 11,
   "id": "d6a540a1",
   "metadata": {},
   "outputs": [
    {
     "name": "stderr",
     "output_type": "stream",
     "text": [
      "WARNING:absl:Found untraced functions such as _jit_compiled_convolution_op while saving (showing 1 of 1). These functions will not be directly callable after loading.\n"
     ]
    },
    {
     "name": "stdout",
     "output_type": "stream",
     "text": [
      "INFO:tensorflow:Assets written to: x_model_s_dave_full/assets\n"
     ]
    },
    {
     "name": "stderr",
     "output_type": "stream",
     "text": [
      "INFO:tensorflow:Assets written to: x_model_s_dave_full/assets\n"
     ]
    }
   ],
   "source": [
    "model.save(\"x_model_s_dave_full\") "
   ]
  },
  {
   "cell_type": "code",
   "execution_count": null,
   "id": "ca6acc21",
   "metadata": {},
   "outputs": [],
   "source": []
  },
  {
   "cell_type": "code",
   "execution_count": 3,
   "id": "adc0981b",
   "metadata": {},
   "outputs": [
    {
     "name": "stderr",
     "output_type": "stream",
     "text": [
      "WARNING:absl:Found untraced functions such as _jit_compiled_convolution_op while saving (showing 1 of 1). These functions will not be directly callable after loading.\n"
     ]
    },
    {
     "name": "stdout",
     "output_type": "stream",
     "text": [
      "INFO:tensorflow:Assets written to: ram://bd61f946-4944-4b59-b0f6-c41bf13e6df2/assets\n"
     ]
    },
    {
     "name": "stderr",
     "output_type": "stream",
     "text": [
      "INFO:tensorflow:Assets written to: ram://bd61f946-4944-4b59-b0f6-c41bf13e6df2/assets\n"
     ]
    }
   ],
   "source": [
    "from tensorflow.keras.models import Sequential, save_model, load_model\n",
    "model = load_model(\"x_model_s\", compile = True)\n",
    "\n",
    "import pickle\n",
    "with open(\"x_model_s.pickle\", \"wb\") as f:\n",
    "    pickle.dump(model, f)"
   ]
  },
  {
   "cell_type": "code",
   "execution_count": null,
   "id": "51c1beaa",
   "metadata": {},
   "outputs": [],
   "source": []
  }
 ],
 "metadata": {
  "kernelspec": {
   "display_name": "car",
   "language": "python",
   "name": "car"
  },
  "language_info": {
   "codemirror_mode": {
    "name": "ipython",
    "version": 3
   },
   "file_extension": ".py",
   "mimetype": "text/x-python",
   "name": "python",
   "nbconvert_exporter": "python",
   "pygments_lexer": "ipython3",
   "version": "3.8.10"
  }
 },
 "nbformat": 4,
 "nbformat_minor": 5
}
