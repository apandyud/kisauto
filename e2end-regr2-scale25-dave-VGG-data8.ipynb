{
 "cells": [
  {
   "cell_type": "code",
   "execution_count": 1,
   "id": "f8a2a83e",
   "metadata": {},
   "outputs": [],
   "source": [
    "import json\n",
    "import os\n",
    "import cv2\n",
    "os.environ['CUDA_VISIBLE_DEVICES'] = '0'\n",
    "import numpy as np\n",
    "import pandas as pd\n",
    "import matplotlib.pyplot as plt\n",
    "import seaborn as sns\n",
    "import random as rnd\n",
    "import itertools\n",
    "import tensorflow as tf\n",
    "from tensorflow.keras.models import Model, Sequential\n",
    "from tensorflow.keras.layers import Dense, Conv2D, Dropout, Flatten, MaxPooling2D, Input, Activation, BatchNormalization\n",
    "\n",
    "from sklearn.model_selection import train_test_split\n",
    "from tensorflow.keras.optimizers import Adam\n",
    "import math\n",
    "import pickle\n",
    "\n",
    "from numpy.random import seed\n",
    "from tensorflow import random"
   ]
  },
  {
   "cell_type": "code",
   "execution_count": 2,
   "id": "470d2f49",
   "metadata": {},
   "outputs": [],
   "source": [
    "DATA_DIR2 = './data8/'\n",
    "ids = os.listdir(DATA_DIR2)\n",
    "pvm_angels = []\n",
    "json_fps = [os.path.join(DATA_DIR2, image_id) for image_id in ids if image_id.startswith('catalog') and image_id.endswith('catalog')]\n",
    "for file in json_fps:\n",
    "    with open(file, 'r') as f:\n",
    "        for line in f:            \n",
    "            if (line.startswith('{')):\n",
    "                jsonObj = json.loads(line)   \n",
    "                imgFile = jsonObj['cam/image_array']\n",
    "                path = os.path.join(DATA_DIR2, 'images', imgFile)\n",
    "                throttle = jsonObj['user/throttle']\n",
    "                if throttle != 0.0 and os.path.exists(path) :\n",
    "                    image = cv2.imread(path)\n",
    "                    image = cv2.cvtColor(image, cv2.COLOR_BGR2RGB )\n",
    "                    #image = image[65:200, :]\n",
    "                    #image = cv2.resize(image, (60,35))\n",
    "                    image = cv2.resize(image, None, fx=0.25, fy= 0.25)\n",
    "                    #image = cv2.resize(image, (60,60))\n",
    "                    jsonObj['image'] = image\n",
    "                    pvm_angels.append(jsonObj)\n"
   ]
  },
  {
   "cell_type": "code",
   "execution_count": 3,
   "id": "15a0841d",
   "metadata": {},
   "outputs": [],
   "source": [
    "import albumentations as A\n",
    "\n",
    "transform = A.Compose([\n",
    "    A.RandomBrightnessContrast(brightness_limit=0.4, contrast_limit=0.5, brightness_by_max=False, p=1),    \n",
    "     A.OneOf(\n",
    "        [\n",
    "            #A.IAASharpen(p=1),\n",
    "            A.Sharpen(p=1),\n",
    "            A.Blur(blur_limit=3, p=1),\n",
    "            A.MotionBlur(blur_limit=3, p=1),\n",
    "        ],\n",
    "        p=0.9,\n",
    "    ),\n",
    "])"
   ]
  },
  {
   "cell_type": "code",
   "execution_count": 4,
   "id": "4b57c336",
   "metadata": {},
   "outputs": [
    {
     "data": {
      "image/png": "[encoded data removed]",
      "text/plain": [
       "<Figure size 432x288 with 1 Axes>"
      ]
     },
     "metadata": {
      "needs_background": "light"
     },
     "output_type": "display_data"
    },
    {
     "data": {
      "text/plain": [
       "(56, 56, 3)"
      ]
     },
     "execution_count": 4,
     "metadata": {},
     "output_type": "execute_result"
    }
   ],
   "source": [
    "plt.imshow(pvm_angels[0]['image'])\n",
    "plt.show()\n",
    "pvm_angels[0]['image'].shape"
   ]
  },
  {
   "cell_type": "code",
   "execution_count": 13,
   "id": "915890a5",
   "metadata": {},
   "outputs": [],
   "source": [
    "#prepare and split data\n",
    "\n",
    "\n",
    "\n",
    "df = pd.DataFrame(pvm_angels)\n",
    "\n",
    "images = list(df['image'])\n",
    "images = np.array(images) / 255.0\n",
    "pwms = np.array(df['user/angle'])\n",
    "\n",
    "images = images[4:] \n",
    "pwms = pwms[:-4]\n",
    "\n",
    "angs = list(zip(images, pwms))\n",
    "rnd.shuffle(angs)\n",
    "images, pwms = zip(*angs)\n",
    "images = np.array(images) \n",
    "pwms = np.array(pwms)\n",
    "\n",
    "trainImagesX, testImagesX, trainPwmsX, testPwmsX = train_test_split(images, pwms, test_size=0.1, random_state=42)\n",
    "trainImagesX, valImagesX, trainPwmsX, valPwmsX = train_test_split(trainImagesX, trainPwmsX, test_size=0.135, random_state=42)\n"
   ]
  },
  {
   "cell_type": "code",
   "execution_count": 14,
   "id": "bb10ed66",
   "metadata": {},
   "outputs": [
    {
     "data": {
      "text/plain": [
       "((63790, 56, 56, 3), (63790,))"
      ]
     },
     "execution_count": 14,
     "metadata": {},
     "output_type": "execute_result"
    }
   ],
   "source": [
    "#implment augmentation \n",
    "augmentedTrainImages = []\n",
    "for i in range(len(trainImagesX)):\n",
    "    orig_image = trainImagesX[i]\n",
    "    augmentedTrainImages.append(orig_image)\n",
    "    for j in range(9):\n",
    "        augmentedTrainImages.append(transform(image=orig_image)['image'])\n",
    "\n",
    "augmentedTrainImages = np.array(augmentedTrainImages)        \n",
    "augmentedPwms = np.array(trainPwmsX).repeat(10)\n",
    "\n",
    "augmentedTrainImages.shape, augmentedPwms.shape"
   ]
  },
  {
   "cell_type": "code",
   "execution_count": 7,
   "id": "2fa271ef",
   "metadata": {},
   "outputs": [],
   "source": [
    "#SAVE DATA\n",
    "\n",
    "data = (augmentedTrainImages, augmentedPwms, valImagesX, valPwmsX, testImagesX, testPwmsX)\n",
    "with open('car_aug_data_d8_25_vgg.pickle', 'wb') as f:\n",
    "    pickle.dump(data, f )"
   ]
  },
  {
   "cell_type": "markdown",
   "id": "29663569",
   "metadata": {},
   "source": [
    "# Usage"
   ]
  },
  {
   "cell_type": "code",
   "execution_count": 15,
   "id": "e65f667a",
   "metadata": {},
   "outputs": [],
   "source": [
    "def calc_ackerman(pwms):\n",
    "    L = 178 #wheelbase\n",
    "    b = 165 #\n",
    "\n",
    "    theta = pwms\n",
    "    R = L/(np.tan(np.radians(theta))+0.0000001)\n",
    "    tg_alpha = L/(R+np.sign(theta)*b*25)\n",
    "    alpha = np.degrees(np.arctan(tg_alpha))\n",
    "\n",
    "    return alpha\n",
    "\n",
    "def conv_sigmoid(pwms):\n",
    "    return (pwms+1)/2.0"
   ]
  },
  {
   "cell_type": "markdown",
   "id": "dfad8106",
   "metadata": {},
   "source": [
    "#LOAD DATA\n",
    "with open('car_aug_data_25_vgg.pickle', 'rb') as f:\n",
    "    data = pickle.load(f)\n",
    "(augmentedTrainImages, augmentedPwms, valImagesX, valPwmsX, testImagesX, testPwmsX) = data\n"
   ]
  },
  {
   "cell_type": "markdown",
   "id": "12880a77",
   "metadata": {},
   "source": [
    "augmentedPwms = calc_ackerman(augmentedPwms)\n",
    "valPwmsX = calc_ackerman(valPwmsX)\n",
    "testPwmsX = calc_ackerman(testPwmsX)\n",
    "\n",
    "\n"
   ]
  },
  {
   "cell_type": "code",
   "execution_count": 16,
   "id": "e84ee699",
   "metadata": {},
   "outputs": [],
   "source": [
    "augmentedPwms = conv_sigmoid(augmentedPwms)\n",
    "valPwmsX = conv_sigmoid(valPwmsX)\n",
    "testPwmsX = conv_sigmoid(testPwmsX)"
   ]
  },
  {
   "cell_type": "code",
   "execution_count": 17,
   "id": "11ff8960",
   "metadata": {},
   "outputs": [
    {
     "data": {
      "text/plain": [
       "[<matplotlib.lines.Line2D at 0x7fe7d1bf8a90>]"
      ]
     },
     "execution_count": 17,
     "metadata": {},
     "output_type": "execute_result"
    },
    {
     "data": {
      "image/png": "[encoded data removed]",
      "text/plain": [
       "<Figure size 432x288 with 1 Axes>"
      ]
     },
     "metadata": {
      "needs_background": "light"
     },
     "output_type": "display_data"
    }
   ],
   "source": [
    "plt.plot(testPwmsX)"
   ]
  },
  {
   "cell_type": "code",
   "execution_count": 18,
   "id": "d580eebf",
   "metadata": {},
   "outputs": [
    {
     "data": {
      "image/png": "[encoded data removed]",
      "text/plain": [
       "<Figure size 432x288 with 1 Axes>"
      ]
     },
     "metadata": {
      "needs_background": "light"
     },
     "output_type": "display_data"
    }
   ],
   "source": [
    "_ = plt.hist(augmentedPwms, bins=40)  # arguments are passed to np.histogram\n",
    "plt.title(\"Histogram with 'auto' bins\")\n",
    "plt.show()"
   ]
  },
  {
   "cell_type": "code",
   "execution_count": 19,
   "id": "8abc60e2",
   "metadata": {
    "scrolled": false
   },
   "outputs": [
    {
     "name": "stderr",
     "output_type": "stream",
     "text": [
      "2022-12-15 13:53:01.497269: I tensorflow/stream_executor/cuda/cuda_gpu_executor.cc:975] successful NUMA node read from SysFS had negative value (-1), but there must be at least one NUMA node, so returning NUMA node zero\n"
     ]
    },
    {
     "name": "stdout",
     "output_type": "stream",
     "text": [
      "Epoch 1/50\n",
      "1994/1994 [==============================] - 12s 5ms/step - loss: 0.0370 - val_loss: 0.0223\n",
      "Epoch 2/50\n",
      "1994/1994 [==============================] - 10s 5ms/step - loss: 0.0249 - val_loss: 0.0188\n",
      "Epoch 3/50\n",
      "1994/1994 [==============================] - 10s 5ms/step - loss: 0.0217 - val_loss: 0.0196\n",
      "Epoch 4/50\n",
      "1994/1994 [==============================] - 10s 5ms/step - loss: 0.0197 - val_loss: 0.0146\n",
      "Epoch 5/50\n",
      "1994/1994 [==============================] - 10s 5ms/step - loss: 0.0180 - val_loss: 0.0141\n",
      "Epoch 6/50\n",
      "1994/1994 [==============================] - 10s 5ms/step - loss: 0.0172 - val_loss: 0.0142\n",
      "Epoch 7/50\n",
      "1994/1994 [==============================] - 10s 5ms/step - loss: 0.0164 - val_loss: 0.0144\n",
      "Epoch 8/50\n",
      "1994/1994 [==============================] - 10s 5ms/step - loss: 0.0154 - val_loss: 0.0131\n",
      "Epoch 9/50\n",
      "1994/1994 [==============================] - 10s 5ms/step - loss: 0.0152 - val_loss: 0.0124\n",
      "Epoch 10/50\n",
      "1994/1994 [==============================] - 10s 5ms/step - loss: 0.0145 - val_loss: 0.0122\n",
      "Epoch 11/50\n",
      "1994/1994 [==============================] - 10s 5ms/step - loss: 0.0141 - val_loss: 0.0113\n",
      "Epoch 12/50\n",
      "1994/1994 [==============================] - 10s 5ms/step - loss: 0.0137 - val_loss: 0.0119\n",
      "Epoch 13/50\n",
      "1994/1994 [==============================] - 10s 5ms/step - loss: 0.0134 - val_loss: 0.0122\n",
      "Epoch 14/50\n",
      "1994/1994 [==============================] - 10s 5ms/step - loss: 0.0131 - val_loss: 0.0101\n",
      "Epoch 15/50\n",
      "1994/1994 [==============================] - 10s 5ms/step - loss: 0.0130 - val_loss: 0.0108\n",
      "Epoch 16/50\n",
      "1994/1994 [==============================] - 10s 5ms/step - loss: 0.0125 - val_loss: 0.0128\n",
      "Epoch 17/50\n",
      "1994/1994 [==============================] - 10s 5ms/step - loss: 0.0124 - val_loss: 0.0098\n",
      "Epoch 18/50\n",
      "1994/1994 [==============================] - 10s 5ms/step - loss: 0.0122 - val_loss: 0.0114\n",
      "Epoch 19/50\n",
      "1994/1994 [==============================] - 10s 5ms/step - loss: 0.0120 - val_loss: 0.0088\n",
      "Epoch 20/50\n",
      "1994/1994 [==============================] - 10s 5ms/step - loss: 0.0119 - val_loss: 0.0102\n",
      "Epoch 21/50\n",
      "1994/1994 [==============================] - 10s 5ms/step - loss: 0.0117 - val_loss: 0.0087\n",
      "Epoch 22/50\n",
      "1994/1994 [==============================] - 10s 5ms/step - loss: 0.0116 - val_loss: 0.0098\n",
      "Epoch 23/50\n",
      "1994/1994 [==============================] - 10s 5ms/step - loss: 0.0114 - val_loss: 0.0086\n",
      "Epoch 24/50\n",
      "1994/1994 [==============================] - 10s 5ms/step - loss: 0.0114 - val_loss: 0.0105\n",
      "Epoch 25/50\n",
      "1994/1994 [==============================] - 10s 5ms/step - loss: 0.0113 - val_loss: 0.0095\n",
      "Epoch 26/50\n",
      "1994/1994 [==============================] - 10s 5ms/step - loss: 0.0110 - val_loss: 0.0085\n",
      "Epoch 27/50\n",
      "1994/1994 [==============================] - 10s 5ms/step - loss: 0.0109 - val_loss: 0.0089\n",
      "Epoch 28/50\n",
      "1994/1994 [==============================] - 10s 5ms/step - loss: 0.0108 - val_loss: 0.0088\n",
      "Epoch 29/50\n",
      "1994/1994 [==============================] - 10s 5ms/step - loss: 0.0108 - val_loss: 0.0092\n",
      "Epoch 30/50\n",
      "1994/1994 [==============================] - 10s 5ms/step - loss: 0.0106 - val_loss: 0.0084\n",
      "Epoch 31/50\n",
      "1994/1994 [==============================] - 10s 5ms/step - loss: 0.0104 - val_loss: 0.0088\n",
      "Epoch 32/50\n",
      "1994/1994 [==============================] - 10s 5ms/step - loss: 0.0105 - val_loss: 0.0085\n",
      "Epoch 33/50\n",
      "1994/1994 [==============================] - 10s 5ms/step - loss: 0.0104 - val_loss: 0.0090\n",
      "Epoch 34/50\n",
      "1994/1994 [==============================] - 10s 5ms/step - loss: 0.0103 - val_loss: 0.0093\n",
      "Epoch 35/50\n",
      "1994/1994 [==============================] - 10s 5ms/step - loss: 0.0103 - val_loss: 0.0081\n",
      "Epoch 36/50\n",
      "1994/1994 [==============================] - 10s 5ms/step - loss: 0.0102 - val_loss: 0.0079\n",
      "Epoch 37/50\n",
      "1994/1994 [==============================] - 10s 5ms/step - loss: 0.0100 - val_loss: 0.0086\n",
      "Epoch 38/50\n",
      "1994/1994 [==============================] - 10s 5ms/step - loss: 0.0101 - val_loss: 0.0088\n",
      "Epoch 39/50\n",
      "1994/1994 [==============================] - 10s 5ms/step - loss: 0.0100 - val_loss: 0.0084\n",
      "Epoch 40/50\n",
      "1994/1994 [==============================] - 10s 5ms/step - loss: 0.0099 - val_loss: 0.0082\n",
      "Epoch 41/50\n",
      "1994/1994 [==============================] - 10s 5ms/step - loss: 0.0099 - val_loss: 0.0079\n",
      "Epoch 42/50\n",
      "1994/1994 [==============================] - 10s 5ms/step - loss: 0.0097 - val_loss: 0.0077\n",
      "Epoch 43/50\n",
      "1994/1994 [==============================] - 10s 5ms/step - loss: 0.0098 - val_loss: 0.0075\n",
      "Epoch 44/50\n",
      "1994/1994 [==============================] - 10s 5ms/step - loss: 0.0096 - val_loss: 0.0077\n",
      "Epoch 45/50\n",
      "1994/1994 [==============================] - 10s 5ms/step - loss: 0.0096 - val_loss: 0.0081\n",
      "Epoch 46/50\n",
      "1994/1994 [==============================] - 10s 5ms/step - loss: 0.0095 - val_loss: 0.0088\n",
      "Epoch 47/50\n",
      "1994/1994 [==============================] - 10s 5ms/step - loss: 0.0095 - val_loss: 0.0078\n",
      "Epoch 48/50\n",
      "1994/1994 [==============================] - 10s 5ms/step - loss: 0.0095 - val_loss: 0.0079\n",
      "Epoch 49/50\n",
      "1994/1994 [==============================] - 10s 5ms/step - loss: 0.0095 - val_loss: 0.0076\n",
      "Epoch 50/50\n",
      "1994/1994 [==============================] - 10s 5ms/step - loss: 0.0093 - val_loss: 0.0082\n"
     ]
    }
   ],
   "source": [
    "seed_value= 0\n",
    "np.random.seed(seed_value)\n",
    "tf.compat.v1.set_random_seed(seed_value)\n",
    "\n",
    "input_shape = augmentedTrainImages[0].shape\n",
    "\n",
    "model = tf.keras.applications.VGG16(\n",
    "weights='imagenet',\n",
    "input_shape=input_shape,\n",
    "include_top=False\n",
    ")\n",
    "\n",
    "for layer in model.layers:\n",
    "      layer.trainable = False\n",
    "        \n",
    "x = model.output\n",
    "x = tf.keras.layers.Flatten()(x)\n",
    "x = tf.keras.layers.Dense(128, activation='relu')(x)\n",
    "x = tf.keras.layers.Dropout(0.2)(x)\n",
    "x = tf.keras.layers.Dense(128, activation='relu')(x)\n",
    "x = tf.keras.layers.Dropout(0.3)(x)\n",
    "x = tf.keras.layers.Dense(1, activation=\"sigmoid\")(x)\n",
    "\n",
    "model = tf.keras.Model(inputs=model.input, outputs=x)\n",
    "\n",
    "model.compile(optimizer='adam', loss='mean_squared_error')\n",
    "\n",
    "history = model.fit(x=augmentedTrainImages,y=augmentedPwms,  validation_data=(valImagesX, valPwmsX), epochs=50)"
   ]
  },
  {
   "cell_type": "code",
   "execution_count": 66,
   "id": "6055c538",
   "metadata": {},
   "outputs": [
    {
     "name": "stderr",
     "output_type": "stream",
     "text": [
      "WARNING:absl:Found untraced functions such as _jit_compiled_convolution_op, _jit_compiled_convolution_op, _jit_compiled_convolution_op, _jit_compiled_convolution_op, _jit_compiled_convolution_op while saving (showing 5 of 13). These functions will not be directly callable after loading.\n"
     ]
    },
    {
     "name": "stdout",
     "output_type": "stream",
     "text": [
      "INFO:tensorflow:Assets written to: 25_vgg_d8_move.model/assets\n"
     ]
    },
    {
     "name": "stderr",
     "output_type": "stream",
     "text": [
      "INFO:tensorflow:Assets written to: 25_vgg_d8_move.model/assets\n"
     ]
    }
   ],
   "source": [
    "model.save('25_vgg_d8_move.model')"
   ]
  },
  {
   "cell_type": "markdown",
   "id": "70aba5c0",
   "metadata": {},
   "source": [
    "#SAVE DATA\n",
    "\n",
    "data = (augmentedTrainImages, augmentedPwms, valImagesX, valPwmsX, testImagesX, testPwmsX)\n",
    "with open('car_aug_data_25_vgg.pickle', 'wb') as f:\n",
    "    pickle.dump(data, f )"
   ]
  },
  {
   "cell_type": "markdown",
   "id": "d41f6bab",
   "metadata": {},
   "source": [
    "import  tensorflow.keras.models\n",
    "model = tensorflow.keras.models.load_model('25_vgg_d8_move.model')"
   ]
  },
  {
   "cell_type": "code",
   "execution_count": 20,
   "id": "28a826e8",
   "metadata": {},
   "outputs": [
    {
     "name": "stdout",
     "output_type": "stream",
     "text": [
      "Test loss: 0.006372496485710144\n"
     ]
    }
   ],
   "source": [
    "score = model.evaluate(testImagesX, testPwmsX, verbose=0)\n",
    "print('Test loss:', score)\n"
   ]
  },
  {
   "cell_type": "code",
   "execution_count": 19,
   "id": "26f989e5",
   "metadata": {},
   "outputs": [
    {
     "data": {
      "text/plain": [
       "datetime.datetime(2022, 11, 30, 15, 32, 5, 43407)"
      ]
     },
     "execution_count": 19,
     "metadata": {},
     "output_type": "execute_result"
    }
   ],
   "source": [
    "import datetime\n",
    "datetime.datetime.now()"
   ]
  },
  {
   "cell_type": "code",
   "execution_count": 22,
   "id": "3dc23702",
   "metadata": {
    "scrolled": true
   },
   "outputs": [
    {
     "data": {
      "image/png": "[encoded data removed]",
      "text/plain": [
       "<Figure size 1080x360 with 1 Axes>"
      ]
     },
     "metadata": {
      "needs_background": "light"
     },
     "output_type": "display_data"
    }
   ],
   "source": [
    "plt.rcParams[\"figure.figsize\"] = (15,5)\n",
    "\n",
    "plt.subplot(122)\n",
    "plt.plot(history.history['loss'])\n",
    "plt.plot(history.history['val_loss'])\n",
    "plt.title('Model loss')\n",
    "plt.ylabel('Loss')\n",
    "plt.xlabel('Epoch')\n",
    "plt.legend(['Train', 'Validation'], loc='upper left')\n",
    "plt.show()\n"
   ]
  },
  {
   "cell_type": "code",
   "execution_count": 23,
   "id": "ec85d444",
   "metadata": {},
   "outputs": [],
   "source": [
    "def show_pwm_prediction3(pwms, preditions, text, start_id):\n",
    "    \n",
    "    \n",
    "    idxs = range(start_id, start_id+len(preditions))    \n",
    "    \n",
    "    angs = list(zip(pwms.copy(), preditions))\n",
    "    res = sorted(angs, key = lambda x: x[0])\n",
    "    pwms, preditions  = zip(*res)\n",
    "    \n",
    "    data = zip()\n",
    "    fig,ax = plt.subplots()\n",
    "    ax.set_title(text)\n",
    "    fig.figsize=(82, 6)\n",
    "\n",
    "          \n",
    "    ax.plot(idxs, preditions, 'o', color=\"blue\")\n",
    "    ax.plot(idxs, pwms, 'o', color=\"green\")\n",
    "    \n",
    "    ax.set_xlabel('Sample Id')\n",
    "    ax.set_ylabel('Angle by donkeycar', color=\"green\")\n",
    "        \n",
    "    fig.set_figwidth(15)\n",
    "    plt.show()\n",
    "    \n",
    "    #print(pwms[5000], pwms[10000], pwms[15000],pwms[20000], pwms[25000], pwms[30000])\n",
    "    #print(preditions[5000], preditions[10000], preditions[15000],preditions[20000], preditions[25000], preditions[30000])\n",
    "    \n",
    "    "
   ]
  },
  {
   "cell_type": "code",
   "execution_count": 24,
   "id": "02e876cd",
   "metadata": {},
   "outputs": [
    {
     "name": "stdout",
     "output_type": "stream",
     "text": [
      "26/26 [==============================] - 0s 4ms/step\n"
     ]
    },
    {
     "data": {
      "image/png": "[encoded data removed]",
      "text/plain": [
       "<Figure size 1080x360 with 1 Axes>"
      ]
     },
     "metadata": {
      "needs_background": "light"
     },
     "output_type": "display_data"
    },
    {
     "name": "stdout",
     "output_type": "stream",
     "text": [
      "Sample count:  820\n",
      "SSE 112534.12377405228\n"
     ]
    }
   ],
   "source": [
    "predictions=model.predict(testImagesX)\n",
    "pwms2 = np.array(testPwmsX)\n",
    "predictions2 = np.array(predictions)\n",
    "show_pwm_prediction3(pwms2,predictions2,   '', 0)\n",
    "show_statistics(testPwmsX, predictions, None)"
   ]
  },
  {
   "cell_type": "code",
   "execution_count": 25,
   "id": "5c2490fa",
   "metadata": {},
   "outputs": [],
   "source": [
    "residuals = abs(predictions.flatten() - testPwmsX)"
   ]
  },
  {
   "cell_type": "code",
   "execution_count": 26,
   "id": "9c22b5f3",
   "metadata": {},
   "outputs": [
    {
     "data": {
      "text/plain": [
       "(4.997253417982073e-05,\n",
       " 0.5383164644241334,\n",
       " 0.058126517331636554,\n",
       " 0.043648598343133865,\n",
       " 0.05471566294901879)"
      ]
     },
     "execution_count": 26,
     "metadata": {},
     "output_type": "execute_result"
    }
   ],
   "source": [
    "residuals.min(),residuals.max(),residuals.mean(), np.median(residuals), np.std(residuals)\n"
   ]
  },
  {
   "cell_type": "code",
   "execution_count": 27,
   "id": "42cbfaf1",
   "metadata": {},
   "outputs": [],
   "source": [
    "a = list(zip(testPwmsX, predictions, residuals))\n"
   ]
  },
  {
   "cell_type": "code",
   "execution_count": 28,
   "id": "3aa5a494",
   "metadata": {},
   "outputs": [
    {
     "data": {
      "text/plain": [
       "(array([144., 122., 122.,  93.,  67.,  62.,  52.,  41.,  35.,  18.,  20.,\n",
       "          7.,  13.,   3.,   2.,   5.,   1.,   2.,   4.,   0.,   0.,   1.,\n",
       "          2.,   1.,   1.,   0.,   0.,   0.,   0.,   0.,   0.,   1.,   0.,\n",
       "          0.,   0.,   0.,   0.,   0.,   0.,   1.]),\n",
       " array([4.99725342e-05, 1.35066348e-02, 2.69632971e-02, 4.04199594e-02,\n",
       "        5.38766217e-02, 6.73332840e-02, 8.07899463e-02, 9.42466086e-02,\n",
       "        1.07703271e-01, 1.21159933e-01, 1.34616596e-01, 1.48073258e-01,\n",
       "        1.61529920e-01, 1.74986582e-01, 1.88443245e-01, 2.01899907e-01,\n",
       "        2.15356569e-01, 2.28813232e-01, 2.42269894e-01, 2.55726556e-01,\n",
       "        2.69183218e-01, 2.82639881e-01, 2.96096543e-01, 3.09553205e-01,\n",
       "        3.23009868e-01, 3.36466530e-01, 3.49923192e-01, 3.63379855e-01,\n",
       "        3.76836517e-01, 3.90293179e-01, 4.03749841e-01, 4.17206504e-01,\n",
       "        4.30663166e-01, 4.44119828e-01, 4.57576491e-01, 4.71033153e-01,\n",
       "        4.84489815e-01, 4.97946478e-01, 5.11403140e-01, 5.24859802e-01,\n",
       "        5.38316464e-01]),\n",
       " <BarContainer object of 40 artists>)"
      ]
     },
     "execution_count": 28,
     "metadata": {},
     "output_type": "execute_result"
    },
    {
     "data": {
      "image/png": "[encoded data removed]",
      "text/plain": [
       "<Figure size 1080x360 with 1 Axes>"
      ]
     },
     "metadata": {
      "needs_background": "light"
     },
     "output_type": "display_data"
    }
   ],
   "source": [
    "plt.hist(residuals, bins=40)"
   ]
  },
  {
   "cell_type": "code",
   "execution_count": 29,
   "id": "e28f1a3d",
   "metadata": {},
   "outputs": [
    {
     "name": "stdout",
     "output_type": "stream",
     "text": [
      "1994/1994 [==============================] - 8s 4ms/step\n"
     ]
    }
   ],
   "source": [
    "predictions=model.predict(augmentedTrainImages)"
   ]
  },
  {
   "cell_type": "code",
   "execution_count": 30,
   "id": "9272994b",
   "metadata": {},
   "outputs": [
    {
     "data": {
      "text/plain": [
       "63790"
      ]
     },
     "execution_count": 30,
     "metadata": {},
     "output_type": "execute_result"
    }
   ],
   "source": [
    "len(augmentedTrainImages)"
   ]
  },
  {
   "cell_type": "code",
   "execution_count": 31,
   "id": "c2ee377e",
   "metadata": {},
   "outputs": [
    {
     "data": {
      "image/png": "[encoded data removed]",
      "text/plain": [
       "<Figure size 1080x360 with 1 Axes>"
      ]
     },
     "metadata": {
      "needs_background": "light"
     },
     "output_type": "display_data"
    },
    {
     "name": "stdout",
     "output_type": "stream",
     "text": [
      "Sample count:  63790\n",
      "SSE 8407424.19681572\n"
     ]
    }
   ],
   "source": [
    "\n",
    "\n",
    "pwms2 = np.array(augmentedPwms[0:])\n",
    "predictions2 = np.array(predictions[0:])\n",
    "show_pwm_prediction3(pwms2,predictions2,   '', 0)\n",
    "show_statistics(testPwmsX, predictions, None)\n"
   ]
  },
  {
   "cell_type": "code",
   "execution_count": 33,
   "id": "7ea8fd8c",
   "metadata": {},
   "outputs": [],
   "source": [
    "residuals2 = abs(predictions2.flatten() - augmentedPwms)"
   ]
  },
  {
   "cell_type": "code",
   "execution_count": 59,
   "id": "8d2cb533",
   "metadata": {},
   "outputs": [],
   "source": [
    "b = list(zip(residuals2, augmentedPwms, augmentedTrainImages, predictions2))\n",
    "res = sorted(b, key = lambda x: x[0])\n",
    "residuals3, augmentedPwms3, augmentedTrainImages3, predictions3  = zip(*res)\n",
    "    \n",
    "    "
   ]
  },
  {
   "cell_type": "code",
   "execution_count": 60,
   "id": "50d0aaa0",
   "metadata": {},
   "outputs": [
    {
     "data": {
      "text/plain": [
       "0.8047151446342471"
      ]
     },
     "execution_count": 60,
     "metadata": {},
     "output_type": "execute_result"
    }
   ],
   "source": [
    "\n",
    "residuals3[-1]"
   ]
  },
  {
   "cell_type": "code",
   "execution_count": 67,
   "id": "bfada18f",
   "metadata": {},
   "outputs": [
    {
     "name": "stdout",
     "output_type": "stream",
     "text": [
      "0.7450817704200747 0.07499999999999968 0.8200818\n"
     ]
    },
    {
     "data": {
      "image/png": "[encoded data removed]",
      "text/plain": [
       "<Figure size 1080x360 with 1 Axes>"
      ]
     },
     "metadata": {
      "needs_background": "light"
     },
     "output_type": "display_data"
    }
   ],
   "source": [
    "idx = -10\n",
    "print(residuals3[idx], augmentedPwms3[idx], predictions3[idx][0])\n",
    "plt.imshow(augmentedTrainImages3[idx])\n",
    "plt.show()\n"
   ]
  },
  {
   "cell_type": "code",
   "execution_count": 70,
   "id": "33007f21",
   "metadata": {},
   "outputs": [
    {
     "data": {
      "text/plain": [
       "(array([1740., 1670., 1460., 1470., 1340., 1670., 1680., 1400., 1550.,\n",
       "        1440., 1570., 1760., 1510., 1550., 1430., 1680., 1650., 1710.,\n",
       "        1590., 1740., 1490., 1580., 1530., 1570., 1550., 1710., 1470.,\n",
       "        1620., 1570., 1690., 1820., 1660., 1590., 1530., 1640., 1440.,\n",
       "        1690., 1660., 1840., 1530.]),\n",
       " array([0.   , 0.025, 0.05 , 0.075, 0.1  , 0.125, 0.15 , 0.175, 0.2  ,\n",
       "        0.225, 0.25 , 0.275, 0.3  , 0.325, 0.35 , 0.375, 0.4  , 0.425,\n",
       "        0.45 , 0.475, 0.5  , 0.525, 0.55 , 0.575, 0.6  , 0.625, 0.65 ,\n",
       "        0.675, 0.7  , 0.725, 0.75 , 0.775, 0.8  , 0.825, 0.85 , 0.875,\n",
       "        0.9  , 0.925, 0.95 , 0.975, 1.   ]),\n",
       " <BarContainer object of 40 artists>)"
      ]
     },
     "execution_count": 70,
     "metadata": {},
     "output_type": "execute_result"
    },
    {
     "data": {
      "image/png": "[encoded data removed]",
      "text/plain": [
       "<Figure size 1080x360 with 1 Axes>"
      ]
     },
     "metadata": {
      "needs_background": "light"
     },
     "output_type": "display_data"
    }
   ],
   "source": [
    "plt.hist(augmentedPwms3, bins=40)"
   ]
  },
  {
   "cell_type": "code",
   "execution_count": null,
   "id": "a46d8f37",
   "metadata": {},
   "outputs": [],
   "source": []
  },
  {
   "cell_type": "code",
   "execution_count": 21,
   "id": "76ced624",
   "metadata": {},
   "outputs": [],
   "source": [
    "def show_pwm_prediction(pwms, preditions, throttle, text,   start_id):\n",
    "    \n",
    "    \n",
    "    idxs = range(start_id, start_id+len(preditions))\n",
    "    \n",
    "    fig,ax = plt.subplots()\n",
    "    ax.set_title(text)\n",
    "    fig.figsize=(82, 6)\n",
    "\n",
    "    ax.plot(idxs, pwms, color=\"green\")\n",
    "        \n",
    "    ax.plot(idxs, throttle, color=\"red\")\n",
    "    \n",
    "    ax.set_xlabel('Sample Id')\n",
    "    ax.set_ylabel('Angle and Throttle by donkeycar', color=\"green\")\n",
    "    \n",
    "    ax2 = ax.twinx()\n",
    "    ax2.plot(idxs, preditions)\n",
    "    ax2.set_ylabel('Angle by camera', color=\"blue\")\n",
    "    \n",
    "    fig.set_figwidth(15)\n",
    "    plt.show()\n",
    "\n",
    "def show_pwm_prediction2(pwms, preditions, text,   start_id):\n",
    "    \n",
    "    \n",
    "    idxs = range(start_id, start_id+len(preditions))\n",
    "    \n",
    "    fig,ax = plt.subplots()\n",
    "    ax.set_title(text)\n",
    "    fig.figsize=(82, 6)\n",
    "\n",
    "    ax.plot(idxs, pwms, color=\"green\")\n",
    "        \n",
    "    ax.plot(idxs, preditions, color=\"blue\")\n",
    "    \n",
    "    ax.set_xlabel('Sample Id')\n",
    "    ax.set_ylabel('Angle by donkeycar', color=\"green\")\n",
    "        \n",
    "    fig.set_figwidth(15)\n",
    "    plt.show()\n",
    "    \n",
    "def show_statistics(pwms, predictions, frames=None):\n",
    "\n",
    "    #print('Sample count: ', len(predictions))\n",
    "    #print('Cov', np.corrcoef([pwms,predictions]))    \n",
    "\n",
    "    if frames == None:\n",
    "        frames = len(predictions)\n",
    "    predictions2 = predictions[:frames]\n",
    "    mean = (max(predictions2) - min(predictions2))/2\n",
    "    predictions3 = (predictions2 -  (min(predictions2) + mean) ) / mean\n",
    "    #sse = np.sum(((predictions3 - pwms)**2))\n",
    "    sse = np.sum(((predictions - pwms)**2))\n",
    "    \n",
    "    print('Sample count: ', len(predictions3))\n",
    "    print('SSE', sse)"
   ]
  },
  {
   "cell_type": "code",
   "execution_count": 8,
   "id": "72e7281b",
   "metadata": {},
   "outputs": [
    {
     "name": "stderr",
     "output_type": "stream",
     "text": [
      "2022-11-23 17:54:22.818577: I tensorflow/core/platform/cpu_feature_guard.cc:193] This TensorFlow binary is optimized with oneAPI Deep Neural Network Library (oneDNN) to use the following CPU instructions in performance-critical operations:  AVX2 FMA\n",
      "To enable them in other operations, rebuild TensorFlow with the appropriate compiler flags.\n"
     ]
    },
    {
     "name": "stdout",
     "output_type": "stream",
     "text": [
      "WARNING:tensorflow:From /tmp/ipykernel_853325/977060466.py:17: The name tf.keras.backend.set_session is deprecated. Please use tf.compat.v1.keras.backend.set_session instead.\n",
      "\n"
     ]
    }
   ],
   "source": [
    "seed_value= 0\n",
    "os.environ['PYTHONHASHSEED']=str(seed_value)\n",
    "import numpy as np\n",
    "np.random.seed(seed_value)\n",
    "import tensorflow as tf\n",
    "#tf.random.set_seed(seed_value)\n",
    "# for later versions: \n",
    "tf.compat.v1.set_random_seed(seed_value)\n",
    "\n",
    "from keras import backend as K\n",
    "#session_conf = tf.ConfigProto(intra_op_parallelism_threads=1, inter_op_parallelism_threads=1)\n",
    "#sess = tf.Session(graph=tf.get_default_graph(), config=session_conf)\n",
    "#K.set_session(sess)\n",
    "# for later versions:\n",
    "session_conf = tf.compat.v1.ConfigProto(intra_op_parallelism_threads=1, inter_op_parallelism_threads=1)\n",
    "sess = tf.compat.v1.Session(graph=tf.compat.v1.get_default_graph(), config=session_conf)\n",
    "tf.compat.v1.keras.backend.set_session(sess)"
   ]
  },
  {
   "cell_type": "code",
   "execution_count": null,
   "id": "08e8615d",
   "metadata": {},
   "outputs": [],
   "source": []
  }
 ],
 "metadata": {
  "kernelspec": {
   "display_name": "car",
   "language": "python",
   "name": "car"
  },
  "language_info": {
   "codemirror_mode": {
    "name": "ipython",
    "version": 3
   },
   "file_extension": ".py",
   "mimetype": "text/x-python",
   "name": "python",
   "nbconvert_exporter": "python",
   "pygments_lexer": "ipython3",
   "version": "3.8.10"
  }
 },
 "nbformat": 4,
 "nbformat_minor": 5
}
